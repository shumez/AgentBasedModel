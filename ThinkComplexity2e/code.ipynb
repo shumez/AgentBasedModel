{
 "cells": [
  {
   "cell_type": "markdown",
   "metadata": {},
   "source": [
    "# 09. Agent-based models"
   ]
  },
  {
   "cell_type": "markdown",
   "metadata": {},
   "source": [
    "* [09.01. Schelling's Model](#0901_schellings_model)\n",
    "* [09.02. Implementation of Schelling's model](#0902_implementation_of_schellings_model)\n",
    "* [09.03. Segregation](#0903_segregation)\n",
    "* [09.04. Sugarscape](#0904_sugarscape)\n",
    "* [09.05. Wealth inequality](#0905_wealth_inequality)\n",
    "* [09.06. Implementing Sugarscape](#0906_implementing_sugarscape)\n",
    "* [09.07. Migration and Wave Behavior](#0907_migration_and_wave_behavior)\n",
    "* [09.08. Emergence](#0908_emergence)\n",
    "* [09.09. Exercises](#0909_exercises)"
   ]
  },
  {
   "cell_type": "markdown",
   "metadata": {},
   "source": [
    "## 09.01. Schelling's Model"
   ]
  },
  {
   "cell_type": "code",
   "execution_count": null,
   "metadata": {},
   "outputs": [],
   "source": []
  }
 ],
 "metadata": {
  "kernelspec": {
   "display_name": "Python 3",
   "language": "python",
   "name": "python3"
  },
  "language_info": {
   "codemirror_mode": {
    "name": "ipython",
    "version": 3
   },
   "file_extension": ".py",
   "mimetype": "text/x-python",
   "name": "python",
   "nbconvert_exporter": "python",
   "pygments_lexer": "ipython3",
   "version": "3.6.5"
  }
 },
 "nbformat": 4,
 "nbformat_minor": 2
}
